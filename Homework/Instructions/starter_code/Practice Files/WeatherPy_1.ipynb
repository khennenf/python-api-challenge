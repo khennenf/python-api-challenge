{
 "cells": [
  {
   "cell_type": "markdown",
   "metadata": {},
   "source": [
    "# WeatherPy\n",
    "----\n",
    "\n",
    "#### Note\n",
    "* Instructions have been included for each segment. You do not have to follow them exactly, but they are included to help you think through the steps."
   ]
  },
  {
   "cell_type": "code",
   "execution_count": 1,
   "metadata": {
    "scrolled": true
   },
   "outputs": [],
   "source": [
    "# Dependencies and Setup\n",
    "import matplotlib.pyplot as plt\n",
    "import pandas as pd\n",
    "import numpy as np\n",
    "import requests\n",
    "import time\n",
    "from scipy.stats import linregress\n",
    "import pprint\n",
    "import json\n",
    "\n",
    "# # Incorporated citipy to determine city based on latitude and longitude\n",
    "from citipy import citipy\n",
    "\n",
    "# Output File (CSV)\n",
    "output_data_file = \"output_data/cities.csv\"\n",
    "\n",
    "# Range of latitudes and longitudes\n",
    "lat_range = (-90, 90)\n",
    "lng_range = (-180, 180)"
   ]
  },
  {
   "cell_type": "code",
   "execution_count": 2,
   "metadata": {},
   "outputs": [
    {
     "name": "stdout",
     "output_type": "stream",
     "text": [
      "86936940bb80c340d7e1b78187213217\n"
     ]
    }
   ],
   "source": [
    "from api_keys import weather_api_key\n",
    "print(weather_api_key)"
   ]
  },
  {
   "cell_type": "markdown",
   "metadata": {},
   "source": [
    "## Generate Cities List"
   ]
  },
  {
   "cell_type": "code",
   "execution_count": 25,
   "metadata": {},
   "outputs": [
    {
     "name": "stdout",
     "output_type": "stream",
     "text": [
      "amapa\n"
     ]
    }
   ],
   "source": [
    "# List for holding lat_lngs and cities\n",
    "lat_lngs = []\n",
    "cities1 = []\n",
    "\n",
    "# Create a set of random lat and lng combinations\n",
    "lats = np.random.uniform(lat_range[0], lat_range[1], size=1500)\n",
    "lngs = np.random.uniform(lng_range[0], lng_range[1], size=1500)\n",
    "lat_lngs = zip(lats, lngs)\n",
    "\n",
    "# Identify nearest city for each lat, lng combination\n",
    "for lat_lng in lat_lngs:\n",
    "    city = citipy.nearest_city(lat_lng[0], lat_lng[1]).city_name\n",
    "    \n",
    "    # If the city is unique, then add it to a our cities list\n",
    "    if city not in cities1:\n",
    "        cities1.append(city)\n",
    "\n",
    "# Print the city count to confirm sufficient count\n",
    "print(city)"
   ]
  },
  {
   "cell_type": "code",
   "execution_count": 27,
   "metadata": {},
   "outputs": [
    {
     "data": {
      "text/plain": [
       "614"
      ]
     },
     "execution_count": 27,
     "metadata": {},
     "output_type": "execute_result"
    }
   ],
   "source": [
    "len(cities1)"
   ]
  },
  {
   "cell_type": "code",
   "execution_count": 45,
   "metadata": {},
   "outputs": [
    {
     "name": "stdout",
     "output_type": "stream",
     "text": [
      "['Mount Gambier', 'Mataura', 'Punta Arenas', 'Meulaboh', 'Saleaula', 'Ilulissat', 'Jimma', 'Touros', 'Along', 'Hambantota', 'Esperance', 'Rapar', 'Avarua', 'Ternate', 'Georgetown', 'Taraz', 'Haibowan', 'Lorengau', 'Novoagansk', 'Atuona', 'Samusu', 'Sinegorye', 'Viedma', 'Busselton', 'Butaritari', 'Hermanus', 'Vaini', 'Narsaq', 'Barrow', 'Vilhena', 'Hobart', 'Zyryanka', 'Cidreira', 'Rikitea', 'Hasaki', 'Norman Wells', 'Te Anau', 'Saint-Philippe', 'New Norfolk', 'Podgornoye', 'Thompson', 'Matara', 'Bethel', 'Port Keats', 'Cayenne', 'Ushuaia', 'Ribeira Grande', 'Castro', 'Clearwater', 'Qazvin', 'Bluff', 'Cabedelo', 'Margate', 'Kaitangata', 'Guilin', 'Moree', 'Stamsund', 'Cruden Bay', 'Three Hills', 'Illoqqortoormiut', 'Moose Factory', 'Dzhubga', 'Ostrovnoy', 'Kirillov', 'Chokurdakh', 'Preobrazheniye', 'Cape Town', 'Arman', 'Vila Franca Do Campo', 'Robertsport', 'Khatanga', 'Muirkirk', 'Bundi', 'Ketchikan', 'San Ramon', 'Urumqi', 'Port Elizabeth', 'Puerto Ayora', 'Milove', 'Kruisfontein', 'Salalah', 'Burgeo', 'Almeirim', 'Balkhash', 'Port Hardy', 'Carnarvon', 'Atocha', 'Cherskiy', 'Taolanaro', 'Kavaratti', 'Mar Del Plata', 'Nikolskoye', 'Qaanaaq', 'Leningradskiy', 'Vardo', 'San Patricio', 'Hithadhoo', 'Kiunga', 'Cockburn Town', 'Zamora', 'Port Hedland', 'Aksarka', 'Udachnyy', 'Svetlyy', 'Oriximina', 'Vao', 'Tuatapere', 'Magrath', 'Dunedin', 'Novyy Urengoy', 'Bambous Virieux', 'Souillac', 'Poum', 'Sanchor', 'Harper', 'Roald', 'Mogadishu', 'Karibib', 'Dikson', 'Okhotsk', 'Caravelas', 'Cap Malheureux', 'Jamame', 'Fairbanks', 'Deputatskiy', 'Coquimbo', 'Tuktoyaktuk', 'Upernavik', 'Barentsburg', 'Ladario', 'Callaway', 'Chenzhou', 'Ninghai', 'Bredasdorp', 'Solec Kujawski', 'Jacareacanga', 'Kapit', 'Ixtapa', 'Iqaluit', 'Sao Filipe', 'Chicama', 'Nizhneyansk', 'Torbay', 'Arraial Do Cabo', 'Marawi', 'Klaksvik', 'Buraydah', 'Chuy', 'Fayaoue', 'Zavetnoye', 'Rundu', 'Urengoy', 'Olafsvik', 'Belushya Guba', 'Rocha', 'Ostersund', 'Lagoa', 'Sitka', 'Port Macquarie', 'Abaza', 'Mayumba', 'Pandan', 'Amderma', 'Aklavik', 'Thano Bula Khan', 'Port Alfred', 'Domanivka', 'Aflu', 'Yulara', 'Manicore', 'Severo-Kurilsk', 'Hilo', 'Saskylakh', 'Jamestown', 'Tautira', 'Tasiilaq', 'Albany', 'Yellowknife', 'Imbituba', 'Veraval', 'Constitucion', 'Camacha', 'Walvis Bay', 'Bathsheba', 'Katha', 'Zenzeli', 'Dibaya', 'Puerto Montt', 'Saryozek', 'Dataganj', 'Karratha', 'General Roca', 'Tonneins', 'Vaitupu', 'Marcona', 'Itarema', 'Dubrovnik', 'Lac Du Bonnet', 'Huilong', 'Kawalu', 'Provideniya', 'Woodward', 'Paamiut', 'Avera', 'Bengkulu', 'Kodiak', 'San Cristobal', 'Gari', 'Impfondo', 'Mahebourg', 'Lavrentiya', 'Kavieng', 'Yermakovskoye', 'Linkoping', 'Bowen', 'Sorong', 'Khargone', 'Raga', 'Pevek', 'Bhalwal', 'Belaya Gora', 'Pitiquito', 'Valence', 'Blonduos', 'Nianzishan', 'Simao', 'Sentyabrskiy', 'Mys Shmidta', 'Bay Roberts', 'Lerwick', 'Tocache', 'Dodge City', 'Ballina', 'Padang', 'Geraldton', 'Wenling', 'Westport', 'Fond Du Lac', 'Viligili', 'Kushiro', 'Cabo San Lucas', 'Severo-Yeniseyskiy', 'Ponta Do Sol', 'Qandala', 'Leshukonskoye', 'Lhuntshi', 'Acuna', 'Mackenzie', 'Gravdal', 'Cocorit', 'Toamasina', 'Laiagam', 'Barrhead', 'Imamoglu', 'Kapaa', 'Plerin', 'Iracoubo', 'Talnakh', 'Warkworth', 'Pucallpa', 'Springbok', 'Maumere', 'Maroantsetra', 'Comodoro Rivadavia', 'Princeton', 'Faanui', 'Lebu', 'Sabibah', 'Kazerun', 'Dhangadhi', 'Jinchang', 'Kuito', 'Namibe', 'Yining', 'Dutse', 'Yeppoon', 'Hofn', 'Aswan', 'Attawapiskat', 'Porto Velho', 'Christchurch', 'Lamballe', 'Kupino', 'Bolungarvik', 'Sinnamary', 'Kashi', 'Atbasar', 'Carutapera', 'Kitui', 'Zhigansk', 'Satitoa', 'Warqla', 'San Andres', 'Tidore', 'Isangel', 'Tessalit', 'East London', 'Kutum', 'Puerto Leguizamo', 'Victoria', 'Merauke', 'Arlit', 'Kokopo', 'Weiser', 'Berlevag', 'Sesheke', 'Tombouctou', 'Sur', 'Yuksekova', 'Sarasota', 'Tiksi', 'Kirovskiy', 'Roma', 'Iquique', 'Alofi', 'Millerovo', 'Andenes', 'Orange Cove', 'Casper', 'Nouadhibou', 'Copiapo', 'Vilyuysk', 'Saint-Pierre', 'Labytnangi', 'Bolshaya Atnya', 'Encsencs', 'Kahului', 'La Ronge', 'Bontang', 'Kailua', 'Mocuba', 'Biala Podlaska', 'Rogun', 'Beloha', 'San Luis', 'Luderitz', 'Baruun-Urt', 'Yola', 'Hirado', 'Bilibino', 'Vostok', 'Male', 'Marsh Harbour', 'Palmer', 'Artur Nogueira', 'Bucerias', 'Lephepe', 'Guerrero Negro', 'Vanimo', 'Araouane', 'Sao Joao Da Barra', 'Nanortalik', 'Olga', 'Bargal', 'Guelengdeng', 'Sainte-Marie', 'Lukovetskiy', 'Monster', 'Kadhan', 'Codrington', 'Paragould', 'Mbamba', 'Lasa', 'Horsham', 'Hualmay', 'Gao', 'Jega', 'Odweyne', 'Necochea', 'Fortuna', 'Wawa', 'Muisne', 'Samalaeulu', 'Surat Thani', 'Coos Bay', 'Yinchuan', 'Kargopol', 'Visnes', 'Saldanha', 'Olmos', 'Uyuni', 'Poputnaya', 'Longyearbyen', 'Sioux Lookout', 'Ancud', 'Clyde River', 'Brae', 'Paramonga', 'Vila Velha', 'Balakovo', 'Langen', 'Oranjemund', 'Umzimvubu', 'Bocanda', 'Ollioules', 'Shimoda', 'Olavarria', 'Launceston', 'Bantry', 'Northport', 'Caramay', 'San Julian', 'Porkhov', 'Kuruman', 'Bairiki', 'Awbari', 'Maniitsoq', 'Flinders', 'Saint George', 'Ibra', 'Otradnoye', 'Kashan', 'Montecristo', 'Lompoc', 'Cartagena Del Chaira', 'Emerald', 'Jalu', 'Haradok', 'Zittau', 'Kieta', 'Grindavik', 'Mount Pleasant', 'Rock Springs', 'Evensk', 'Longview', 'Albury', 'Turukhansk', 'Gobabis', 'Qasigiannguit', 'Tanshui', 'Pokhara', 'Sao Borja', 'Zlynka', 'Linqiong', 'Hoi An', 'Celendin', 'Grand River South East', 'Ossora', 'Fort Saint John', 'Dachau', 'Nakanojo', 'Taupo', 'Myrtle Beach', 'Volpiano', 'Powell River', 'Vanderhoof', 'Wonji', 'Kysyl-Syr', 'Domoni', 'Bembereke', 'Puri', 'Alta', 'Medzev', 'Barabinsk', 'Tarudant', 'Nishihara', 'Havelock', 'Neiafu', 'Faya', 'Clinton', 'Presidencia Roque Saenz Pena', 'Morros', 'Taguatinga', 'Skalistyy', 'Balkanabat', 'Macia', 'Hobyo', 'Rawson', 'Ahipara', 'Bandarbeyla', 'Porto Novo', 'Acari', 'Henties Bay', 'Ust-Tsilma', 'Mazagao', 'Quelimane', 'Alice Springs', 'Kargasok', 'Pouebo', 'Aberdeen', 'Shirokaya Rechka', 'Sataua', 'Laguna', 'Fare', 'Sibolga', 'Dongsheng', 'Kloulklubed', 'Tsihombe', 'Bayshore Gardens', 'Katobu', 'Hamilton', 'Concepcion', 'Kuvshinovo', 'Litoral Del San Juan', 'Manzanillo', 'Shimanovsk', 'Nantucket', 'Betsiamites', 'Stoumont', 'Seoul', 'Portland', 'Lakitelek', 'Richards Bay', 'Santa Rosa', 'Tigil', 'Sobolevo', 'Fazilka', 'Los Llanos De Aridane', 'Novosheshminsk', 'Grand Gaube', 'Manuk Mangkaw', 'Khandyga', 'Katsuura', 'Thinadhoo', 'Talaya', 'Lebanon', 'Kaseda', 'Yvetot', 'Barawe', 'Sedalia', 'Prince Rupert', 'Manzhouli', 'Viareggio', 'Kedrovyy', 'Raudeberg', 'Arys', 'Calvinia', 'Mount Isa', 'Coihaique', 'Florence', 'Ewo', 'Cooma', 'Wakkanai', 'Felipe Carrillo Puerto', 'Pisco', 'Goundi', 'Suzu', 'Montrose', 'Pierre', 'Saint-Francois', 'Superior', 'Kiama', 'Barasat', 'Kaoma', 'Brokopondo', 'Malatya', 'Warman', 'Cumaribo', 'Airai', 'Bethlehem', 'Rio Gallegos', 'Verkhnyaya Inta', 'Auki', 'Road Town', 'Madingou', 'Sedelnikovo', 'Bom Jesus', 'Luanda', 'Galiwinku', 'Kijang', 'Bongandanga', 'Kuytun', 'Celestun', 'Russell', 'Boa Viagem', 'Mahibadhoo', 'Petrolia', 'Alta Floresta', 'Neuquen', 'Ahuimanu', 'Da Lat', 'Uvalde', 'Tuggurt', 'Uni', 'Sundsvall', 'Liverpool', 'Adrar', 'Colac', 'Formoso Do Araguaia', 'Dinsor', 'Balsas', 'Dongying', 'Bulri', 'Carbonia', 'Erzin', 'Rio Branco', 'Rungata', 'Panaba', 'Dingle', 'Bereda', 'Haines Junction', 'Saint-Joseph', 'Bosaso', 'Vila', 'Terrace', 'Tanete', 'Kerki', 'Botwood', 'Parati', 'Miri', 'Uruguaiana', 'Atar', 'Ruthin', 'Kingsport', 'Tiznit', 'Vung Tau', 'Karaul', 'Porosozero', 'Alugan', 'Puerto Escondido', 'Lata', 'Riyadh', 'Puyang', 'Amapa']\n"
     ]
    }
   ],
   "source": [
    "proper_case_city = []\n",
    "\n",
    "for city in cities1:\n",
    "    proper_case_city.append(city.title())\n",
    "print(proper_case_city)"
   ]
  },
  {
   "cell_type": "markdown",
   "metadata": {},
   "source": [
    "### Perform API Calls\n",
    "* Perform a weather check on each city using a series of successive API calls.\n",
    "* Include a print log of each city as it'sbeing processed (with the city number and city name).\n"
   ]
  },
  {
   "cell_type": "code",
   "execution_count": 3,
   "metadata": {
    "scrolled": true
   },
   "outputs": [
    {
     "name": "stdout",
     "output_type": "stream",
     "text": [
      "The Weatther is {'cod': 401, 'message': 'Invalid API key. Please see http://openweathermap.org/faq#error401 for more info.'}\n"
     ]
    }
   ],
   "source": [
    "# # # api.openweathermap.org/data/2.5/weather?q={city name}&appid={API key}\n",
    "url = \"http://api.openweathermap.org/data/2.5/weather?q\"\n",
    "cities3 = \"Greenwood\"\n",
    "# # units= \"metric\"\n",
    "query_url1 = url + \"appid=\" + weather_api_key + \"&q=\" + cities3\n",
    "weather_response = requests.get(query_url1)\n",
    "weather_json = weather_response.json() \n",
    "print (f\"The Weatther is {weather_json}\")\n",
    "# print(town)\n",
    " \n",
    "# query_url = f\"{url}={town}&appid=660a56b93364b8001862ed7484405ba2&units=imperial\"\n",
    "# # response_indy = requests.get(query_url).json()\n",
    "# # print(response_indy)"
   ]
  },
  {
   "cell_type": "code",
   "execution_count": 4,
   "metadata": {},
   "outputs": [],
   "source": [
    "# cities2 = [\"Paris\", \"London\", \"Oslo\", \"Beijing\"]\n",
    "# city_names = []\n",
    "# # query_url1 = f\"{url}&appid=71ec7b6a2d2a57d146530ecfe4149b98&units=imperial\"\n",
    "\n",
    "# for x in cities1:\n",
    "#     response1 = requests.get(query_url + x).json()\n",
    "#     print(response1)"
   ]
  },
  {
   "cell_type": "code",
   "execution_count": 5,
   "metadata": {},
   "outputs": [
    {
     "name": "stdout",
     "output_type": "stream",
     "text": [
      "We can't find Greenwood\n",
      "We can't find Zionsville\n",
      "We can't find Waverly\n"
     ]
    }
   ],
   "source": [
    "json_data = []\n",
    "lat = []\n",
    "temp = []\n",
    "city_name=[]\n",
    "\n",
    "query_url = f\"{url}&appid=71ec7b6a2d2a57d146530ecfe4149b98&units=imperial\"\n",
    "# response = requests.get(query_url).json()\n",
    "# print(response_indy)\n",
    "\n",
    "for city in cities3:\n",
    "    response = requests.get(query_url + city).json()\n",
    "    try:\n",
    "        lat.append(response['coord']['lat'])\n",
    "        temp.append(response['main']['temp'])\n",
    "        print(f\"{city} found!\")\n",
    "    except KeyError:\n",
    "        print(f\"We can't find {city}\")\n",
    "  \n",
    "              \n",
    "              \n",
    "#    city_name.append(lat_cord.append(response[\"coord\"][\"lat\"])))\n",
    "#     lon_cord.append(response['coord']['lon'])\n",
    "#     temp.append(response['main']['temp'])\n",
    "# places_data = weather_json\n",
    "# print(json.dumps(places_data, indent=4, sort_keys=True))\n",
    "# print(places_data[\"name\"])\n"
   ]
  },
  {
   "cell_type": "code",
   "execution_count": null,
   "metadata": {},
   "outputs": [],
   "source": [
    "print(city_name)"
   ]
  },
  {
   "cell_type": "markdown",
   "metadata": {},
   "source": [
    "### Convert Raw Data to DataFrame\n",
    "* Export the city data into a .csv.\n",
    "* Display the DataFrame"
   ]
  },
  {
   "cell_type": "code",
   "execution_count": null,
   "metadata": {},
   "outputs": [],
   "source": []
  },
  {
   "cell_type": "code",
   "execution_count": null,
   "metadata": {},
   "outputs": [],
   "source": []
  },
  {
   "cell_type": "markdown",
   "metadata": {},
   "source": [
    "## Inspect the data and remove the cities where the humidity > 100%.\n",
    "----\n",
    "Skip this step if there are no cities that have humidity > 100%. "
   ]
  },
  {
   "cell_type": "code",
   "execution_count": null,
   "metadata": {},
   "outputs": [],
   "source": []
  },
  {
   "cell_type": "code",
   "execution_count": null,
   "metadata": {},
   "outputs": [],
   "source": [
    "#  Get the indices of cities that have humidity over 100%.\n"
   ]
  },
  {
   "cell_type": "code",
   "execution_count": null,
   "metadata": {},
   "outputs": [],
   "source": [
    "# Make a new DataFrame equal to the city data to drop all humidity outliers by index.\n",
    "# Passing \"inplace=False\" will make a copy of the city_data DataFrame, which we call \"clean_city_data\".\n"
   ]
  },
  {
   "cell_type": "code",
   "execution_count": null,
   "metadata": {},
   "outputs": [],
   "source": [
    "\n"
   ]
  },
  {
   "cell_type": "markdown",
   "metadata": {},
   "source": [
    "## Plotting the Data\n",
    "* Use proper labeling of the plots using plot titles (including date of analysis) and axes labels.\n",
    "* Save the plotted figures as .pngs."
   ]
  },
  {
   "cell_type": "markdown",
   "metadata": {},
   "source": [
    "## Latitude vs. Temperature Plot"
   ]
  },
  {
   "cell_type": "code",
   "execution_count": null,
   "metadata": {
    "scrolled": true
   },
   "outputs": [],
   "source": []
  },
  {
   "cell_type": "markdown",
   "metadata": {},
   "source": [
    "## Latitude vs. Humidity Plot"
   ]
  },
  {
   "cell_type": "code",
   "execution_count": null,
   "metadata": {},
   "outputs": [],
   "source": []
  },
  {
   "cell_type": "markdown",
   "metadata": {},
   "source": [
    "## Latitude vs. Cloudiness Plot"
   ]
  },
  {
   "cell_type": "code",
   "execution_count": null,
   "metadata": {},
   "outputs": [],
   "source": []
  },
  {
   "cell_type": "markdown",
   "metadata": {},
   "source": [
    "## Latitude vs. Wind Speed Plot"
   ]
  },
  {
   "cell_type": "code",
   "execution_count": null,
   "metadata": {},
   "outputs": [],
   "source": []
  },
  {
   "cell_type": "markdown",
   "metadata": {},
   "source": [
    "## Linear Regression"
   ]
  },
  {
   "cell_type": "code",
   "execution_count": null,
   "metadata": {},
   "outputs": [],
   "source": []
  },
  {
   "cell_type": "markdown",
   "metadata": {},
   "source": [
    "####  Northern Hemisphere - Max Temp vs. Latitude Linear Regression"
   ]
  },
  {
   "cell_type": "code",
   "execution_count": null,
   "metadata": {},
   "outputs": [],
   "source": []
  },
  {
   "cell_type": "markdown",
   "metadata": {},
   "source": [
    "####  Southern Hemisphere - Max Temp vs. Latitude Linear Regression"
   ]
  },
  {
   "cell_type": "code",
   "execution_count": null,
   "metadata": {},
   "outputs": [],
   "source": []
  },
  {
   "cell_type": "markdown",
   "metadata": {},
   "source": [
    "####  Northern Hemisphere - Humidity (%) vs. Latitude Linear Regression"
   ]
  },
  {
   "cell_type": "code",
   "execution_count": null,
   "metadata": {},
   "outputs": [],
   "source": []
  },
  {
   "cell_type": "markdown",
   "metadata": {},
   "source": [
    "####  Southern Hemisphere - Humidity (%) vs. Latitude Linear Regression"
   ]
  },
  {
   "cell_type": "code",
   "execution_count": null,
   "metadata": {},
   "outputs": [],
   "source": []
  },
  {
   "cell_type": "markdown",
   "metadata": {},
   "source": [
    "####  Northern Hemisphere - Cloudiness (%) vs. Latitude Linear Regression"
   ]
  },
  {
   "cell_type": "code",
   "execution_count": null,
   "metadata": {},
   "outputs": [],
   "source": []
  },
  {
   "cell_type": "markdown",
   "metadata": {},
   "source": [
    "####  Southern Hemisphere - Cloudiness (%) vs. Latitude Linear Regression"
   ]
  },
  {
   "cell_type": "code",
   "execution_count": null,
   "metadata": {},
   "outputs": [],
   "source": []
  },
  {
   "cell_type": "markdown",
   "metadata": {},
   "source": [
    "####  Northern Hemisphere - Wind Speed (mph) vs. Latitude Linear Regression"
   ]
  },
  {
   "cell_type": "code",
   "execution_count": null,
   "metadata": {},
   "outputs": [],
   "source": []
  },
  {
   "cell_type": "markdown",
   "metadata": {},
   "source": [
    "####  Southern Hemisphere - Wind Speed (mph) vs. Latitude Linear Regression"
   ]
  },
  {
   "cell_type": "code",
   "execution_count": null,
   "metadata": {},
   "outputs": [],
   "source": []
  },
  {
   "cell_type": "code",
   "execution_count": null,
   "metadata": {},
   "outputs": [],
   "source": []
  }
 ],
 "metadata": {
  "anaconda-cloud": {},
  "kernel_info": {
   "name": "python3"
  },
  "kernelspec": {
   "display_name": "Python 3",
   "language": "python",
   "name": "python3"
  },
  "language_info": {
   "codemirror_mode": {
    "name": "ipython",
    "version": 3
   },
   "file_extension": ".py",
   "mimetype": "text/x-python",
   "name": "python",
   "nbconvert_exporter": "python",
   "pygments_lexer": "ipython3",
   "version": "3.6.10"
  },
  "latex_envs": {
   "LaTeX_envs_menu_present": true,
   "autoclose": false,
   "autocomplete": true,
   "bibliofile": "biblio.bib",
   "cite_by": "apalike",
   "current_citInitial": 1,
   "eqLabelWithNumbers": true,
   "eqNumInitial": 1,
   "hotkeys": {
    "equation": "Ctrl-E",
    "itemize": "Ctrl-I"
   },
   "labels_anchors": false,
   "latex_user_defs": false,
   "report_style_numbering": false,
   "user_envs_cfg": false
  },
  "nteract": {
   "version": "0.12.3"
  }
 },
 "nbformat": 4,
 "nbformat_minor": 2
}

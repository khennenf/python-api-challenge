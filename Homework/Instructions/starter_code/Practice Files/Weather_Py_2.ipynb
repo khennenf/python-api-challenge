{
 "cells": [
  {
   "cell_type": "code",
   "execution_count": 1,
   "metadata": {},
   "outputs": [],
   "source": [
    "# Dependencies and Setup\n",
    "import matplotlib.pyplot as plt\n",
    "import pandas as pd\n",
    "import numpy as np\n",
    "import requests\n",
    "import time\n",
    "from scipy.stats import linregress\n",
    "import pprint\n",
    "import json\n",
    "\n",
    "# # Incorporated citipy to determine city based on latitude and longitude\n",
    "from citipy import citipy\n",
    "\n",
    "# Output File (CSV)\n",
    "output_data_file = \"output_data/cities.csv\"\n",
    "\n",
    "# Range of latitudes and longitudes\n",
    "lat_range = (-90, 90)\n",
    "lng_range = (-180, 180)"
   ]
  },
  {
   "cell_type": "code",
   "execution_count": 2,
   "metadata": {},
   "outputs": [
    {
     "name": "stdout",
     "output_type": "stream",
     "text": [
      "2ec28ec5c12c80c9758a8c8bb6282bec\n"
     ]
    }
   ],
   "source": [
    "from api_keys import weather_api_key\n",
    "print(weather_api_key)"
   ]
  },
  {
   "cell_type": "code",
   "execution_count": 131,
   "metadata": {},
   "outputs": [
    {
     "data": {
      "text/plain": [
       "600"
      ]
     },
     "execution_count": 131,
     "metadata": {},
     "output_type": "execute_result"
    }
   ],
   "source": [
    "# # List for holding lat_lngs and cities\n",
    "# lat_lngs = []\n",
    "# cities = []\n",
    "\n",
    "# # Create a set of random lat and lng combinations\n",
    "# lats = np.random.uniform(lat_range[0], lat_range[1], size=1500)\n",
    "# lngs = np.random.uniform(lng_range[0], lng_range[1], size=1500)\n",
    "# lat_lngs = zip(lats, lngs)\n",
    "\n",
    "# # Identify nearest city for each lat, lng combination\n",
    "# for lat_lng in lat_lngs:\n",
    "#     city = citipy.nearest_city(lat_lng[0], lat_lng[1]).city_name\n",
    "    \n",
    "#     # If the city is unique, then add it to a our cities list\n",
    "#     if city not in cities:\n",
    "#         cities.append(city)\n",
    "\n",
    "# # Print the city count to confirm sufficient count\n",
    "# len(cities)"
   ]
  },
  {
   "cell_type": "code",
   "execution_count": 132,
   "metadata": {},
   "outputs": [],
   "source": [
    "units = \"metric\"\n",
    "url = \"http://api.openweathermap.org/data/2.5/weather?\"\n",
    "query_url = f\"{url}appid={weather_api_key}&units={units}&q=\"\n",
    "weather_response = requests.get(query_url)\n",
    "weather_json = weather_response.json() \n",
    "# print (f\"The Weather is {weather_json}\")\n",
    "# print(query_url)"
   ]
  },
  {
   "cell_type": "code",
   "execution_count": 204,
   "metadata": {},
   "outputs": [],
   "source": [
    "lat = []\n",
    "lon = []\n",
    "max_temp = []\n",
    "clouds = []\n",
    "wind = []\n",
    "humidity = []\n",
    "country=[]\n",
    "city_name=[]\n"
   ]
  },
  {
   "cell_type": "code",
   "execution_count": 205,
   "metadata": {},
   "outputs": [
    {
     "name": "stdout",
     "output_type": "stream",
     "text": [
      "<function consecutive_numbers at 0x000001E5D85A6B70>\n"
     ]
    }
   ],
   "source": [
    "def  consecutive_numbers(n) :\n",
    "    list=[i for i in range(len(cities))]\n",
    "    return (list)\n",
    "print(consecutive_numbers)"
   ]
  },
  {
   "cell_type": "code",
   "execution_count": 206,
   "metadata": {},
   "outputs": [
    {
     "name": "stdout",
     "output_type": "stream",
     "text": [
      "rikitea PFfound!\n",
      "paamiut GLfound!\n",
      "mar del plata ARfound!\n",
      "berlevag NOfound!\n",
      "yar-sale RUfound!\n",
      "victoria HKfound!\n",
      "ferme-neuve CAfound!\n",
      "oranjemund NAfound!\n",
      "sambava MGfound!\n",
      "maltahohe NAfound!\n",
      "opuwo NAfound!\n",
      "bluff NZfound!\n",
      "imeni poliny osipenko RUfound!\n",
      "We can't find kegayli\n",
      "belmonte BRfound!\n",
      "hilo USfound!\n",
      "vila velha BRfound!\n",
      "We can't find sentyabrskiy\n",
      "We can't find taolanaro\n",
      "We can't find buqayq\n",
      "ushuaia ARfound!\n",
      "cidreira BRfound!\n",
      "oparino RUfound!\n",
      "tual IDfound!\n",
      "barrow USfound!\n",
      "saint-pierre REfound!\n",
      "punta arenas CLfound!\n",
      "porbandar INfound!\n",
      "geraldton AUfound!\n",
      "maniitsoq GLfound!\n",
      "albany USfound!\n",
      "pekan MYfound!\n",
      "ribeira grande PTfound!\n",
      "thompson CAfound!\n",
      "otradnoye RUfound!\n",
      "port elizabeth ZAfound!\n",
      "richards bay ZAfound!\n",
      "hobart AUfound!\n",
      "cavalcante BRfound!\n",
      "iqaluit CAfound!\n",
      "port hedland AUfound!\n",
      "quatre cocos MUfound!\n",
      "egvekinot RUfound!\n",
      "saint-philippe REfound!\n",
      "We can't find attawapiskat\n",
      "arraial do cabo BRfound!\n",
      "burnie AUfound!\n",
      "avarua CKfound!\n",
      "esperance AUfound!\n",
      "salalah OMfound!\n",
      "neuquen ARfound!\n",
      "makow mazowiecki PLfound!\n",
      "semey KZfound!\n",
      "cape town ZAfound!\n",
      "tuatapere NZfound!\n",
      "mataura NZfound!\n",
      "la rioja ESfound!\n",
      "kaitangata NZfound!\n",
      "vaini TOfound!\n",
      "leningradskiy RUfound!\n",
      "We can't find illoqqortoormiut\n",
      "puerto escondido MXfound!\n",
      "katsuura JPfound!\n",
      "broome USfound!\n",
      "quibor VEfound!\n",
      "constitucion CLfound!\n",
      "liberal USfound!\n",
      "mehamn NOfound!\n",
      "port alfred ZAfound!\n",
      "cabo san lucas MXfound!\n",
      "qaanaaq GLfound!\n",
      "butaritari KIfound!\n",
      "khatanga RUfound!\n",
      "ancud CLfound!\n",
      "portmore JMfound!\n",
      "busselton AUfound!\n",
      "itacare BRfound!\n",
      "necochea ARfound!\n",
      "bastia FRfound!\n",
      "We can't find barentsburg\n",
      "paidha UGfound!\n",
      "nerchinskiy zavod RUfound!\n",
      "aylesbury GBfound!\n",
      "tuktoyaktuk CAfound!\n",
      "hermanus ZAfound!\n",
      "zonguldak TRfound!\n",
      "We can't find amderma\n",
      "kapaa USfound!\n",
      "new norfolk AUfound!\n",
      "navalmoral de la mata ESfound!\n",
      "inhambane MZfound!\n",
      "saint-georges GDfound!\n",
      "tiksi RUfound!\n",
      "oksfjord NOfound!\n",
      "saskylakh RUfound!\n",
      "college USfound!\n",
      "pacific grove USfound!\n",
      "usinsk RUfound!\n",
      "souillac MUfound!\n",
      "bayan CNfound!\n",
      "korla CNfound!\n",
      "nome USfound!\n",
      "provideniya RUfound!\n",
      "port-de-bouc FRfound!\n",
      "kodiak USfound!\n",
      "mendeleyevo RUfound!\n",
      "pacifica USfound!\n",
      "warmbad NAfound!\n",
      "georgetown MYfound!\n",
      "atuona PFfound!\n",
      "pangody RUfound!\n",
      "senador guiomard BRfound!\n",
      "rawson ARfound!\n",
      "taltal CLfound!\n",
      "lebu CLfound!\n",
      "bambous virieux MUfound!\n",
      "east london ZAfound!\n",
      "jamestown USfound!\n",
      "rio grande BRfound!\n",
      "We can't find hunza\n",
      "port lincoln AUfound!\n",
      "ishigaki JPfound!\n",
      "pisco PEfound!\n",
      "wakkanai JPfound!\n",
      "green river USfound!\n",
      "yellowknife CAfound!\n",
      "poco branco BRfound!\n",
      "port hardy CAfound!\n",
      "ratnagiri INfound!\n",
      "ntungamo UGfound!\n",
      "hastings GBfound!\n",
      "tasiilaq GLfound!\n",
      "khovu-aksy RUfound!\n",
      "taoudenni MLfound!\n",
      "We can't find tsihombe\n",
      "batemans bay AUfound!\n",
      "bubaque GWfound!\n",
      "We can't find tuggurt\n",
      "namatanai PGfound!\n",
      "hithadhoo MVfound!\n",
      "oyem GAfound!\n",
      "saint anthony USfound!\n",
      "mabaruma GYfound!\n",
      "chokurdakh RUfound!\n",
      "bethel USfound!\n",
      "We can't find kamenskoye\n",
      "severo-kurilsk RUfound!\n",
      "We can't find uroteppa\n",
      "vardo NOfound!\n",
      "adrar MRfound!\n",
      "We can't find bandar penggaram\n",
      "We can't find himora\n",
      "san patricio USfound!\n",
      "kahului USfound!\n",
      "ixtapa MXfound!\n",
      "We can't find grand river south east\n",
      "villazon BOfound!\n",
      "juegang CNfound!\n",
      "upernavik GLfound!\n",
      "prince rupert CAfound!\n",
      "natal BRfound!\n",
      "washington USfound!\n",
      "talavera de la reina ESfound!\n",
      "bandarbeyla SOfound!\n",
      "faanui PFfound!\n",
      "saint george USfound!\n",
      "qaqortoq GLfound!\n",
      "nanortalik GLfound!\n",
      "rocky mountain house CAfound!\n",
      "balkhash KZfound!\n",
      "kruisfontein ZAfound!\n",
      "batagay RUfound!\n",
      "sikonge TZfound!\n",
      "kaseda JPfound!\n",
      "oktyabrskiy RUfound!\n",
      "trelew ARfound!\n",
      "bressuire FRfound!\n",
      "castro BRfound!\n",
      "darhan MNfound!\n",
      "We can't find belushya guba\n",
      "rundu NAfound!\n",
      "nishihara JPfound!\n",
      "hualmay PEfound!\n",
      "manggar IDfound!\n",
      "lasa ITfound!\n",
      "calvinia ZAfound!\n",
      "poum NCfound!\n",
      "bengkulu IDfound!\n",
      "emerald AUfound!\n",
      "We can't find grimari\n",
      "puerto ayora ECfound!\n",
      "gabu GWfound!\n",
      "pembroke CAfound!\n",
      "luderitz NAfound!\n",
      "mazatan MXfound!\n",
      "paracatu BRfound!\n",
      "zacualtipan MXfound!\n",
      "parabel RUfound!\n",
      "tilichiki RUfound!\n",
      "sola VUfound!\n",
      "regeneracao BRfound!\n",
      "asau ROfound!\n",
      "flinders AUfound!\n",
      "fort-shevchenko KZfound!\n",
      "san rafael ARfound!\n",
      "mogadishu SOfound!\n",
      "mahebourg MUfound!\n",
      "torbay CAfound!\n",
      "mattru SLfound!\n",
      "sorland NOfound!\n",
      "gat ILfound!\n",
      "zhigansk RUfound!\n",
      "bonfim BRfound!\n",
      "We can't find mutsamudu\n",
      "ilulissat GLfound!\n",
      "tara RUfound!\n",
      "We can't find louisbourg\n",
      "hopkinsville USfound!\n",
      "We can't find kuche\n",
      "virginia beach USfound!\n",
      "aykhal RUfound!\n",
      "narsaq GLfound!\n",
      "yekepa LRfound!\n",
      "jiangyou CNfound!\n",
      "karratha AUfound!\n",
      "tomarovka RUfound!\n",
      "nemuro JPfound!\n",
      "luanda AOfound!\n",
      "haines junction CAfound!\n",
      "kavieng PGfound!\n",
      "nikolskoye RUfound!\n",
      "konce MKfound!\n",
      "mogocha RUfound!\n",
      "phan thiet VNfound!\n",
      "clyde river CAfound!\n",
      "We can't find arkhangelos\n",
      "ponta do sol PTfound!\n",
      "fairbanks USfound!\n",
      "mincivan AZfound!\n",
      "mount isa AUfound!\n",
      "urumqi CNfound!\n",
      "datong CNfound!\n",
      "santiago de cao PEfound!\n",
      "balykshi KZfound!\n",
      "hambantota LKfound!\n",
      "arraias BRfound!\n",
      "puerto colombia COfound!\n",
      "yeniseysk RUfound!\n",
      "fairmont USfound!\n",
      "luau AOfound!\n",
      "ostrovnoy RUfound!\n",
      "vestmannaeyjar ISfound!\n",
      "sungaipenuh IDfound!\n",
      "biggar GBfound!\n",
      "saldanha ZAfound!\n",
      "poya NCfound!\n",
      "solnechnyy RUfound!\n",
      "crotone ITfound!\n",
      "lagoa PTfound!\n",
      "We can't find vaitupu\n",
      "sakakah SAfound!\n",
      "leshukonskoye RUfound!\n",
      "port blair INfound!\n",
      "innisfail AUfound!\n",
      "malko tarnovo BGfound!\n",
      "hasaki JPfound!\n",
      "son la VNfound!\n",
      "henties bay NAfound!\n",
      "longyearbyen SJfound!\n",
      "black forest USfound!\n",
      "tocopilla CLfound!\n",
      "coruripe BRfound!\n",
      "shinpokh PKfound!\n",
      "rumoi JPfound!\n",
      "yulara AUfound!\n",
      "suoyarvi RUfound!\n",
      "deputatskiy RUfound!\n",
      "itoman JPfound!\n",
      "We can't find dieppe bay\n",
      "dikson RUfound!\n",
      "faya SAfound!\n",
      "alcaudete ESfound!\n",
      "alamosa USfound!\n",
      "puerto madryn ARfound!\n",
      "ullapool GBfound!\n",
      "urambo TZfound!\n",
      "axim GHfound!\n",
      "caravelas BRfound!\n",
      "fortuna USfound!\n",
      "samarai PGfound!\n",
      "sangar RUfound!\n",
      "margate GBfound!\n",
      "ha tinh VNfound!\n",
      "altar MXfound!\n",
      "ulaangom MNfound!\n",
      "eyemouth GBfound!\n",
      "santa cruz BOfound!\n",
      "laufen DEfound!\n",
      "We can't find krivopolyanye\n",
      "biltine TDfound!\n",
      "luchegorsk RUfound!\n",
      "dingle PHfound!\n",
      "We can't find yeehaw junction\n",
      "kununurra AUfound!\n",
      "shetpe KZfound!\n",
      "bykovo RUfound!\n",
      "tecpan GTfound!\n",
      "padang IDfound!\n",
      "voskresenskoye RUfound!\n",
      "kilindoni TZfound!\n",
      "kavaratti INfound!\n",
      "labuhan IDfound!\n",
      "We can't find samusu\n",
      "mossendjo CGfound!\n",
      "jalu LYfound!\n",
      "bemidji USfound!\n",
      "antequera ESfound!\n",
      "plettenberg bay ZAfound!\n",
      "la primavera COfound!\n",
      "kahramanmaras TRfound!\n",
      "pevek RUfound!\n",
      "talnakh RUfound!\n",
      "neckarsulm DEfound!\n",
      "We can't find saleaula\n",
      "clacton-on-sea GBfound!\n",
      "kismayo SOfound!\n",
      "biak IDfound!\n",
      "humaita BRfound!\n",
      "We can't find mrirt\n",
      "We can't find tumannyy\n",
      "paramirim BRfound!\n",
      "komsomolskiy UZfound!\n",
      "terrace bay CAfound!\n",
      "tazovskiy RUfound!\n",
      "buala SBfound!\n",
      "te anau NZfound!\n",
      "sao filipe CVfound!\n",
      "townsville AUfound!\n",
      "We can't find warqla\n",
      "macau MOfound!\n",
      "arman RUfound!\n",
      "sisimiut GLfound!\n",
      "isangel VUfound!\n",
      "boca do acre BRfound!\n",
      "muros ESfound!\n",
      "We can't find artyk\n",
      "ahipara NZfound!\n",
      "tibiri NEfound!\n",
      "beeville USfound!\n",
      "great yarmouth GBfound!\n",
      "beringovskiy RUfound!\n",
      "bredasdorp ZAfound!\n",
      "namibe AOfound!\n",
      "alugan PHfound!\n",
      "muri INfound!\n",
      "harwich GBfound!\n",
      "west bay KYfound!\n",
      "rivadavia ARfound!\n",
      "simao CNfound!\n",
      "pemba MZfound!\n",
      "mucurapo TTfound!\n",
      "rimbey CAfound!\n",
      "vostok RUfound!\n",
      "kralendijk BQfound!\n",
      "nuuk GLfound!\n",
      "martapura IDfound!\n",
      "kamenka RUfound!\n",
      "dania beach USfound!\n",
      "srednekolymsk RUfound!\n",
      "roma USfound!\n",
      "corinth GRfound!\n",
      "carnarvon AUfound!\n",
      "ustye RUfound!\n",
      "chazuta PEfound!\n",
      "sterling USfound!\n",
      "wladyslawowo PLfound!\n",
      "homer USfound!\n",
      "rebra ROfound!\n",
      "praia da vitoria PTfound!\n",
      "balclutha NZfound!\n",
      "half moon bay USfound!\n",
      "akcakoca TRfound!\n",
      "bagaces CRfound!\n",
      "manati PRfound!\n",
      "albert lea USfound!\n",
      "We can't find nabul\n",
      "tshikapa CDfound!\n",
      "meulaboh IDfound!\n",
      "We can't find mergui\n",
      "cherskiy RUfound!\n",
      "trairi BRfound!\n",
      "rolla USfound!\n",
      "parkes AUfound!\n",
      "oussouye SNfound!\n",
      "comodoro rivadavia ARfound!\n",
      "normandin CAfound!\n",
      "We can't find bargal\n",
      "ibimirim BRfound!\n",
      "We can't find viligili\n",
      "puro PHfound!\n",
      "We can't find mys shmidta\n",
      "san quintin MXfound!\n",
      "svetlaya RUfound!\n",
      "garissa KEfound!\n",
      "ayaviri PEfound!\n",
      "serro BRfound!\n",
      "eenhana NAfound!\n",
      "fukue JPfound!\n",
      "cockburn town TCfound!\n",
      "kearney USfound!\n",
      "ewa beach USfound!\n",
      "We can't find utiroa\n",
      "We can't find ondorhaan\n",
      "mahibadhoo MVfound!\n",
      "savannah bight HNfound!\n",
      "pechora RUfound!\n",
      "lufilufi WSfound!\n",
      "We can't find marcona\n",
      "pangnirtung CAfound!\n",
      "nhulunbuy AUfound!\n",
      "tautira PFfound!\n",
      "tiznit MAfound!\n",
      "wewak PGfound!\n",
      "vao NCfound!\n",
      "zhanakorgan KZfound!\n",
      "bonthe SLfound!\n",
      "gordeyevka RUfound!\n",
      "aromashevo RUfound!\n",
      "kangaatsiaq GLfound!\n",
      "santa isabel BRfound!\n",
      "atar MRfound!\n",
      "sistranda NOfound!\n"
     ]
    },
    {
     "name": "stdout",
     "output_type": "stream",
     "text": [
      "ayna PEfound!\n",
      "havelock USfound!\n",
      "madimba TZfound!\n",
      "boddam GBfound!\n",
      "arroyo ESfound!\n",
      "We can't find inderborskiy\n",
      "consett GBfound!\n",
      "sechura PEfound!\n",
      "carutapera BRfound!\n",
      "kushima JPfound!\n",
      "prainha BRfound!\n",
      "gamba GAfound!\n",
      "sotnikovskoye RUfound!\n",
      "veraval INfound!\n",
      "bria CFfound!\n",
      "robe AUfound!\n",
      "bilma NEfound!\n",
      "zaoyang CNfound!\n",
      "northam GBfound!\n",
      "ust-ilimsk RUfound!\n",
      "kokstad ZAfound!\n",
      "We can't find khonuu\n",
      "hamilton USfound!\n",
      "fairhope USfound!\n",
      "la palma USfound!\n",
      "emba KZfound!\n",
      "We can't find halalo\n",
      "benoy TDfound!\n",
      "garowe SOfound!\n",
      "omidiyeh IRfound!\n",
      "hami CNfound!\n",
      "husavik ISfound!\n",
      "fomboni KMfound!\n",
      "burley USfound!\n",
      "mecca SAfound!\n",
      "quelimane MZfound!\n",
      "cayenne GFfound!\n",
      "akdepe TMfound!\n",
      "along INfound!\n",
      "mazagao BRfound!\n",
      "nyurba RUfound!\n",
      "urussanga BRfound!\n",
      "sosnogorsk RUfound!\n",
      "bestobe KZfound!\n",
      "esmeraldas BRfound!\n",
      "takab IRfound!\n",
      "brunico ITfound!\n",
      "chicama PEfound!\n",
      "shingu JPfound!\n",
      "alofi NUfound!\n",
      "mahenge TZfound!\n",
      "bartow USfound!\n",
      "mae ramat THfound!\n",
      "We can't find galiwinku\n",
      "lewiston USfound!\n",
      "chuy UYfound!\n",
      "krasnokamensk RUfound!\n",
      "tateyama JPfound!\n",
      "huntsville USfound!\n",
      "koping SEfound!\n",
      "luis correia BRfound!\n",
      "russkaya polyana UAfound!\n",
      "newport GBfound!\n",
      "vigrestad NOfound!\n",
      "tevaitoa PFfound!\n",
      "airai TLfound!\n",
      "kungurtug RUfound!\n",
      "touros BRfound!\n",
      "snezhnogorsk RUfound!\n",
      "pangai TOfound!\n",
      "baghdad IQfound!\n",
      "hirado JPfound!\n",
      "sao felix do xingu BRfound!\n",
      "vila franca do campo PTfound!\n",
      "port macquarie AUfound!\n",
      "tierranueva MXfound!\n",
      "shizilu CNfound!\n",
      "vaitape PFfound!\n",
      "whitehorse CAfound!\n",
      "We can't find nizhneyansk\n",
      "santa ana USfound!\n",
      "pierre USfound!\n",
      "hohhot CNfound!\n",
      "popondetta PGfound!\n",
      "guerrero negro MXfound!\n",
      "We can't find ye\n",
      "wanning CNfound!\n",
      "borogontsy RUfound!\n",
      "floro NOfound!\n",
      "chongwe ZMfound!\n",
      "kroya IDfound!\n",
      "lodwar KEfound!\n",
      "chifeng CNfound!\n",
      "We can't find gurgan\n",
      "mount gambier AUfound!\n",
      "maryborough AUfound!\n",
      "kurilsk RUfound!\n",
      "We can't find palabuhanratu\n",
      "formosa ARfound!\n",
      "dunedin NZfound!\n",
      "carballo ESfound!\n",
      "norman wells CAfound!\n",
      "kamaishi JPfound!\n",
      "aklavik CAfound!\n",
      "celestun MXfound!\n",
      "san andres COfound!\n",
      "mugur-aksy RUfound!\n",
      "sawakin SDfound!\n",
      "khani GEfound!\n",
      "We can't find fort saint john\n",
      "gurupa BRfound!\n",
      "elbistan TRfound!\n",
      "costesti ROfound!\n",
      "awjilah LYfound!\n",
      "We can't find nylstroom\n",
      "saint-augustin CAfound!\n",
      "kloulklubed PWfound!\n",
      "nikolsk RUfound!\n",
      "pitangui BRfound!\n",
      "qiongshan CNfound!\n",
      "bilibino RUfound!\n",
      "vredendal ZAfound!\n",
      "bontang IDfound!\n",
      "anadyr RUfound!\n",
      "zverinogolovskoye RUfound!\n",
      "gutierrez COfound!\n",
      "ngunguru NZfound!\n",
      "lorengau PGfound!\n",
      "walvis bay NAfound!\n",
      "porto novo BJfound!\n",
      "villacarrillo ESfound!\n",
      "We can't find falealupo\n",
      "loa janan IDfound!\n",
      "forio ITfound!\n",
      "vanimo PGfound!\n",
      "russell USfound!\n",
      "We can't find kawana waters\n",
      "boa vista BRfound!\n",
      "morant bay JMfound!\n",
      "ouadda CFfound!\n",
      "cabedelo BRfound!\n",
      "kaduqli SDfound!\n",
      "katima mulilo NAfound!\n",
      "sitka USfound!\n",
      "tierra blanca HNfound!\n",
      "dalby AUfound!\n",
      "scarborough GBfound!\n",
      "bar harbor USfound!\n",
      "otane NZfound!\n",
      "praya CVfound!\n",
      "sioux lookout CAfound!\n",
      "belaya gora RUfound!\n",
      "tabasalu EEfound!\n",
      "mongoumba CFfound!\n",
      "tazmalt DZfound!\n",
      "maceio BRfound!\n",
      "bonavista CAfound!\n",
      "eruwa NGfound!\n",
      "chimbote PEfound!\n",
      "andenes NOfound!\n",
      "bathurst AUfound!\n",
      "tukrah LYfound!\n",
      "uruacu BRfound!\n",
      "lokosovo RUfound!\n",
      "olafsvik ISfound!\n",
      "acari PEfound!\n",
      "grand gaube MUfound!\n",
      "stromness GBfound!\n"
     ]
    }
   ],
   "source": [
    "for city in cities:\n",
    "    try:\n",
    "        weather_response = requests.get(query_url + city)\n",
    "        text_response = weather_response.json()\n",
    "        lat.append(text_response['coord']['lat'])\n",
    "        lon.append(text_response['coord']['lon'])\n",
    "        max_temp.append(text_response['main']['temp_max'])\n",
    "        clouds.append(text_response['clouds']['all'])\n",
    "        humidity.append(text_response['main']['humidity'])\n",
    "        wind.append(text_response['wind']['speed'])\n",
    "        country.append(text_response['sys']['country'])\n",
    "        city_name.append(text_response['name'])\n",
    "        print(f\"{city} {text_response['sys']['country']})\n",
    "        \n",
    "    except KeyError:\n",
    "        print(f\"We can't find {city}\")  "
   ]
  },
  {
   "cell_type": "code",
   "execution_count": 443,
   "metadata": {},
   "outputs": [
    {
     "name": "stdout",
     "output_type": "stream",
     "text": [
      "Help on list object:\n",
      "\n",
      "class list(object)\n",
      " |  list() -> new empty list\n",
      " |  list(iterable) -> new list initialized from iterable's items\n",
      " |  \n",
      " |  Methods defined here:\n",
      " |  \n",
      " |  __add__(self, value, /)\n",
      " |      Return self+value.\n",
      " |  \n",
      " |  __contains__(self, key, /)\n",
      " |      Return key in self.\n",
      " |  \n",
      " |  __delitem__(self, key, /)\n",
      " |      Delete self[key].\n",
      " |  \n",
      " |  __eq__(self, value, /)\n",
      " |      Return self==value.\n",
      " |  \n",
      " |  __ge__(self, value, /)\n",
      " |      Return self>=value.\n",
      " |  \n",
      " |  __getattribute__(self, name, /)\n",
      " |      Return getattr(self, name).\n",
      " |  \n",
      " |  __getitem__(...)\n",
      " |      x.__getitem__(y) <==> x[y]\n",
      " |  \n",
      " |  __gt__(self, value, /)\n",
      " |      Return self>value.\n",
      " |  \n",
      " |  __iadd__(self, value, /)\n",
      " |      Implement self+=value.\n",
      " |  \n",
      " |  __imul__(self, value, /)\n",
      " |      Implement self*=value.\n",
      " |  \n",
      " |  __init__(self, /, *args, **kwargs)\n",
      " |      Initialize self.  See help(type(self)) for accurate signature.\n",
      " |  \n",
      " |  __iter__(self, /)\n",
      " |      Implement iter(self).\n",
      " |  \n",
      " |  __le__(self, value, /)\n",
      " |      Return self<=value.\n",
      " |  \n",
      " |  __len__(self, /)\n",
      " |      Return len(self).\n",
      " |  \n",
      " |  __lt__(self, value, /)\n",
      " |      Return self<value.\n",
      " |  \n",
      " |  __mul__(self, value, /)\n",
      " |      Return self*value.\n",
      " |  \n",
      " |  __ne__(self, value, /)\n",
      " |      Return self!=value.\n",
      " |  \n",
      " |  __new__(*args, **kwargs) from builtins.type\n",
      " |      Create and return a new object.  See help(type) for accurate signature.\n",
      " |  \n",
      " |  __repr__(self, /)\n",
      " |      Return repr(self).\n",
      " |  \n",
      " |  __reversed__(...)\n",
      " |      L.__reversed__() -- return a reverse iterator over the list\n",
      " |  \n",
      " |  __rmul__(self, value, /)\n",
      " |      Return value*self.\n",
      " |  \n",
      " |  __setitem__(self, key, value, /)\n",
      " |      Set self[key] to value.\n",
      " |  \n",
      " |  __sizeof__(...)\n",
      " |      L.__sizeof__() -- size of L in memory, in bytes\n",
      " |  \n",
      " |  append(...)\n",
      " |      L.append(object) -> None -- append object to end\n",
      " |  \n",
      " |  clear(...)\n",
      " |      L.clear() -> None -- remove all items from L\n",
      " |  \n",
      " |  copy(...)\n",
      " |      L.copy() -> list -- a shallow copy of L\n",
      " |  \n",
      " |  count(...)\n",
      " |      L.count(value) -> integer -- return number of occurrences of value\n",
      " |  \n",
      " |  extend(...)\n",
      " |      L.extend(iterable) -> None -- extend list by appending elements from the iterable\n",
      " |  \n",
      " |  index(...)\n",
      " |      L.index(value, [start, [stop]]) -> integer -- return first index of value.\n",
      " |      Raises ValueError if the value is not present.\n",
      " |  \n",
      " |  insert(...)\n",
      " |      L.insert(index, object) -- insert object before index\n",
      " |  \n",
      " |  pop(...)\n",
      " |      L.pop([index]) -> item -- remove and return item at index (default last).\n",
      " |      Raises IndexError if list is empty or index is out of range.\n",
      " |  \n",
      " |  remove(...)\n",
      " |      L.remove(value) -> None -- remove first occurrence of value.\n",
      " |      Raises ValueError if the value is not present.\n",
      " |  \n",
      " |  reverse(...)\n",
      " |      L.reverse() -- reverse *IN PLACE*\n",
      " |  \n",
      " |  sort(...)\n",
      " |      L.sort(key=None, reverse=False) -> None -- stable sort *IN PLACE*\n",
      " |  \n",
      " |  ----------------------------------------------------------------------\n",
      " |  Data and other attributes defined here:\n",
      " |  \n",
      " |  __hash__ = None\n",
      "\n"
     ]
    }
   ],
   "source": [
    "help(max_temp)"
   ]
  },
  {
   "cell_type": "code",
   "execution_count": 207,
   "metadata": {},
   "outputs": [
    {
     "data": {
      "text/plain": [
       "548"
      ]
     },
     "execution_count": 207,
     "metadata": {},
     "output_type": "execute_result"
    }
   ],
   "source": [
    "for i in max_temp:\n",
    "    "
   ]
  },
  {
   "cell_type": "code",
   "execution_count": 208,
   "metadata": {},
   "outputs": [
    {
     "data": {
      "text/html": [
       "<div>\n",
       "<style scoped>\n",
       "    .dataframe tbody tr th:only-of-type {\n",
       "        vertical-align: middle;\n",
       "    }\n",
       "\n",
       "    .dataframe tbody tr th {\n",
       "        vertical-align: top;\n",
       "    }\n",
       "\n",
       "    .dataframe thead th {\n",
       "        text-align: right;\n",
       "    }\n",
       "</style>\n",
       "<table border=\"1\" class=\"dataframe\">\n",
       "  <thead>\n",
       "    <tr style=\"text-align: right;\">\n",
       "      <th></th>\n",
       "      <th>City</th>\n",
       "      <th>Lat</th>\n",
       "      <th>Lng</th>\n",
       "      <th>Max Temp</th>\n",
       "      <th>Humidity</th>\n",
       "      <th>Cloudiness</th>\n",
       "      <th>Wind Speed</th>\n",
       "      <th>Country</th>\n",
       "    </tr>\n",
       "  </thead>\n",
       "  <tbody>\n",
       "    <tr>\n",
       "      <th>0</th>\n",
       "      <td>Rikitea</td>\n",
       "      <td>-23.1203</td>\n",
       "      <td>-134.9692</td>\n",
       "      <td>26.60</td>\n",
       "      <td>67</td>\n",
       "      <td>97</td>\n",
       "      <td>2.90</td>\n",
       "      <td>PF</td>\n",
       "    </tr>\n",
       "    <tr>\n",
       "      <th>1</th>\n",
       "      <td>Paamiut</td>\n",
       "      <td>61.9940</td>\n",
       "      <td>-49.6678</td>\n",
       "      <td>0.94</td>\n",
       "      <td>82</td>\n",
       "      <td>74</td>\n",
       "      <td>3.92</td>\n",
       "      <td>GL</td>\n",
       "    </tr>\n",
       "    <tr>\n",
       "      <th>2</th>\n",
       "      <td>Mar del Plata</td>\n",
       "      <td>-38.0023</td>\n",
       "      <td>-57.5575</td>\n",
       "      <td>23.00</td>\n",
       "      <td>60</td>\n",
       "      <td>75</td>\n",
       "      <td>3.09</td>\n",
       "      <td>AR</td>\n",
       "    </tr>\n",
       "    <tr>\n",
       "      <th>3</th>\n",
       "      <td>Berlevåg</td>\n",
       "      <td>70.8578</td>\n",
       "      <td>29.0864</td>\n",
       "      <td>-6.00</td>\n",
       "      <td>79</td>\n",
       "      <td>75</td>\n",
       "      <td>4.12</td>\n",
       "      <td>NO</td>\n",
       "    </tr>\n",
       "    <tr>\n",
       "      <th>4</th>\n",
       "      <td>Yar-Sale</td>\n",
       "      <td>66.8333</td>\n",
       "      <td>70.8333</td>\n",
       "      <td>-40.76</td>\n",
       "      <td>80</td>\n",
       "      <td>16</td>\n",
       "      <td>2.04</td>\n",
       "      <td>RU</td>\n",
       "    </tr>\n",
       "    <tr>\n",
       "      <th>...</th>\n",
       "      <td>...</td>\n",
       "      <td>...</td>\n",
       "      <td>...</td>\n",
       "      <td>...</td>\n",
       "      <td>...</td>\n",
       "      <td>...</td>\n",
       "      <td>...</td>\n",
       "      <td>...</td>\n",
       "    </tr>\n",
       "    <tr>\n",
       "      <th>543</th>\n",
       "      <td>Lokosovo</td>\n",
       "      <td>61.1333</td>\n",
       "      <td>74.8167</td>\n",
       "      <td>-37.60</td>\n",
       "      <td>81</td>\n",
       "      <td>43</td>\n",
       "      <td>2.04</td>\n",
       "      <td>RU</td>\n",
       "    </tr>\n",
       "    <tr>\n",
       "      <th>544</th>\n",
       "      <td>Olafsvik</td>\n",
       "      <td>64.8945</td>\n",
       "      <td>-23.7142</td>\n",
       "      <td>0.84</td>\n",
       "      <td>93</td>\n",
       "      <td>100</td>\n",
       "      <td>0.75</td>\n",
       "      <td>IS</td>\n",
       "    </tr>\n",
       "    <tr>\n",
       "      <th>545</th>\n",
       "      <td>Acarí</td>\n",
       "      <td>-15.4311</td>\n",
       "      <td>-74.6158</td>\n",
       "      <td>27.52</td>\n",
       "      <td>48</td>\n",
       "      <td>0</td>\n",
       "      <td>4.54</td>\n",
       "      <td>PE</td>\n",
       "    </tr>\n",
       "    <tr>\n",
       "      <th>546</th>\n",
       "      <td>Grand Gaube</td>\n",
       "      <td>-20.0064</td>\n",
       "      <td>57.6608</td>\n",
       "      <td>25.56</td>\n",
       "      <td>82</td>\n",
       "      <td>0</td>\n",
       "      <td>0.89</td>\n",
       "      <td>MU</td>\n",
       "    </tr>\n",
       "    <tr>\n",
       "      <th>547</th>\n",
       "      <td>Stromness</td>\n",
       "      <td>58.9650</td>\n",
       "      <td>-3.2960</td>\n",
       "      <td>1.00</td>\n",
       "      <td>86</td>\n",
       "      <td>20</td>\n",
       "      <td>3.60</td>\n",
       "      <td>GB</td>\n",
       "    </tr>\n",
       "  </tbody>\n",
       "</table>\n",
       "<p>548 rows × 8 columns</p>\n",
       "</div>"
      ],
      "text/plain": [
       "              City      Lat       Lng  Max Temp  Humidity  Cloudiness  \\\n",
       "0          Rikitea -23.1203 -134.9692     26.60        67          97   \n",
       "1          Paamiut  61.9940  -49.6678      0.94        82          74   \n",
       "2    Mar del Plata -38.0023  -57.5575     23.00        60          75   \n",
       "3         Berlevåg  70.8578   29.0864     -6.00        79          75   \n",
       "4         Yar-Sale  66.8333   70.8333    -40.76        80          16   \n",
       "..             ...      ...       ...       ...       ...         ...   \n",
       "543       Lokosovo  61.1333   74.8167    -37.60        81          43   \n",
       "544       Olafsvik  64.8945  -23.7142      0.84        93         100   \n",
       "545          Acarí -15.4311  -74.6158     27.52        48           0   \n",
       "546    Grand Gaube -20.0064   57.6608     25.56        82           0   \n",
       "547      Stromness  58.9650   -3.2960      1.00        86          20   \n",
       "\n",
       "     Wind Speed Country  \n",
       "0          2.90      PF  \n",
       "1          3.92      GL  \n",
       "2          3.09      AR  \n",
       "3          4.12      NO  \n",
       "4          2.04      RU  \n",
       "..          ...     ...  \n",
       "543        2.04      RU  \n",
       "544        0.75      IS  \n",
       "545        4.54      PE  \n",
       "546        0.89      MU  \n",
       "547        3.60      GB  \n",
       "\n",
       "[548 rows x 8 columns]"
      ]
     },
     "execution_count": 208,
     "metadata": {},
     "output_type": "execute_result"
    }
   ],
   "source": [
    "weather_df = pd.DataFrame(\n",
    "        {\n",
    "            \"City\": city_name,\n",
    "            \"Lat\": lat,\n",
    "            \"Lng\": lon,\n",
    "            \"Max Temp\": max_temp,\n",
    "            \"Humidity\": humidity,\n",
    "            \"Cloudiness\": clouds,\n",
    "            \"Wind Speed\": wind,\n",
    "            \"Country\": country\n",
    "        }\n",
    ")\n",
    "weather_df"
   ]
  },
  {
   "cell_type": "code",
   "execution_count": 209,
   "metadata": {},
   "outputs": [],
   "source": [
    "weather_df.to_csv(\"Weather_Output_1.csv\")"
   ]
  },
  {
   "cell_type": "code",
   "execution_count": 210,
   "metadata": {},
   "outputs": [
    {
     "data": {
      "text/html": [
       "<div>\n",
       "<style scoped>\n",
       "    .dataframe tbody tr th:only-of-type {\n",
       "        vertical-align: middle;\n",
       "    }\n",
       "\n",
       "    .dataframe tbody tr th {\n",
       "        vertical-align: top;\n",
       "    }\n",
       "\n",
       "    .dataframe thead th {\n",
       "        text-align: right;\n",
       "    }\n",
       "</style>\n",
       "<table border=\"1\" class=\"dataframe\">\n",
       "  <thead>\n",
       "    <tr style=\"text-align: right;\">\n",
       "      <th></th>\n",
       "      <th>Lat</th>\n",
       "      <th>Lng</th>\n",
       "      <th>Max Temp</th>\n",
       "      <th>Humidity</th>\n",
       "      <th>Cloudiness</th>\n",
       "      <th>Wind Speed</th>\n",
       "    </tr>\n",
       "  </thead>\n",
       "  <tbody>\n",
       "    <tr>\n",
       "      <th>count</th>\n",
       "      <td>548.000000</td>\n",
       "      <td>548.000000</td>\n",
       "      <td>548.000000</td>\n",
       "      <td>548.000000</td>\n",
       "      <td>548.000000</td>\n",
       "      <td>548.000000</td>\n",
       "    </tr>\n",
       "    <tr>\n",
       "      <th>mean</th>\n",
       "      <td>19.705359</td>\n",
       "      <td>14.752194</td>\n",
       "      <td>9.258175</td>\n",
       "      <td>73.306569</td>\n",
       "      <td>52.425182</td>\n",
       "      <td>3.771606</td>\n",
       "    </tr>\n",
       "    <tr>\n",
       "      <th>std</th>\n",
       "      <td>34.099769</td>\n",
       "      <td>90.293829</td>\n",
       "      <td>18.732172</td>\n",
       "      <td>19.367914</td>\n",
       "      <td>40.154226</td>\n",
       "      <td>2.560016</td>\n",
       "    </tr>\n",
       "    <tr>\n",
       "      <th>min</th>\n",
       "      <td>-54.800000</td>\n",
       "      <td>-179.166700</td>\n",
       "      <td>-45.880000</td>\n",
       "      <td>10.000000</td>\n",
       "      <td>0.000000</td>\n",
       "      <td>0.140000</td>\n",
       "    </tr>\n",
       "    <tr>\n",
       "      <th>25%</th>\n",
       "      <td>-9.699350</td>\n",
       "      <td>-63.057275</td>\n",
       "      <td>-2.000000</td>\n",
       "      <td>64.000000</td>\n",
       "      <td>6.000000</td>\n",
       "      <td>1.787500</td>\n",
       "    </tr>\n",
       "    <tr>\n",
       "      <th>50%</th>\n",
       "      <td>22.243050</td>\n",
       "      <td>17.531000</td>\n",
       "      <td>15.160000</td>\n",
       "      <td>78.000000</td>\n",
       "      <td>58.000000</td>\n",
       "      <td>3.330000</td>\n",
       "    </tr>\n",
       "    <tr>\n",
       "      <th>75%</th>\n",
       "      <td>48.828125</td>\n",
       "      <td>93.487500</td>\n",
       "      <td>25.000000</td>\n",
       "      <td>87.000000</td>\n",
       "      <td>93.000000</td>\n",
       "      <td>5.140000</td>\n",
       "    </tr>\n",
       "    <tr>\n",
       "      <th>max</th>\n",
       "      <td>78.218600</td>\n",
       "      <td>179.316700</td>\n",
       "      <td>34.000000</td>\n",
       "      <td>100.000000</td>\n",
       "      <td>100.000000</td>\n",
       "      <td>13.380000</td>\n",
       "    </tr>\n",
       "  </tbody>\n",
       "</table>\n",
       "</div>"
      ],
      "text/plain": [
       "              Lat         Lng    Max Temp    Humidity  Cloudiness  Wind Speed\n",
       "count  548.000000  548.000000  548.000000  548.000000  548.000000  548.000000\n",
       "mean    19.705359   14.752194    9.258175   73.306569   52.425182    3.771606\n",
       "std     34.099769   90.293829   18.732172   19.367914   40.154226    2.560016\n",
       "min    -54.800000 -179.166700  -45.880000   10.000000    0.000000    0.140000\n",
       "25%     -9.699350  -63.057275   -2.000000   64.000000    6.000000    1.787500\n",
       "50%     22.243050   17.531000   15.160000   78.000000   58.000000    3.330000\n",
       "75%     48.828125   93.487500   25.000000   87.000000   93.000000    5.140000\n",
       "max     78.218600  179.316700   34.000000  100.000000  100.000000   13.380000"
      ]
     },
     "execution_count": 210,
     "metadata": {},
     "output_type": "execute_result"
    }
   ],
   "source": [
    "weather_df.describe()"
   ]
  },
  {
   "cell_type": "code",
   "execution_count": 211,
   "metadata": {},
   "outputs": [
    {
     "data": {
      "text/plain": [
       "False    548\n",
       "Name: Humidity, dtype: int64"
      ]
     },
     "execution_count": 211,
     "metadata": {},
     "output_type": "execute_result"
    }
   ],
   "source": [
    "(weather_df[\"Humidity\"] > 100).value_counts()"
   ]
  },
  {
   "cell_type": "code",
   "execution_count": 212,
   "metadata": {},
   "outputs": [
    {
     "name": "stdout",
     "output_type": "stream",
     "text": [
      "100\n"
     ]
    }
   ],
   "source": [
    "print(weather_df[\"Humidity\"].max())"
   ]
  },
  {
   "cell_type": "code",
   "execution_count": 216,
   "metadata": {},
   "outputs": [
    {
     "data": {
      "text/plain": [
       "City           object\n",
       "Lat           float64\n",
       "Lng           float64\n",
       "Max Temp      float64\n",
       "Humidity        int64\n",
       "Cloudiness      int64\n",
       "Wind Speed    float64\n",
       "Country        object\n",
       "Date           object\n",
       "dtype: object"
      ]
     },
     "execution_count": 216,
     "metadata": {},
     "output_type": "execute_result"
    }
   ],
   "source": [
    "weather_df[\"Date\"] = '2021-01-25'\n",
    "weather_df.dtypes"
   ]
  },
  {
   "cell_type": "code",
   "execution_count": 219,
   "metadata": {},
   "outputs": [
    {
     "data": {
      "text/plain": [
       "City                  object\n",
       "Lat                  float64\n",
       "Lng                  float64\n",
       "Max Temp             float64\n",
       "Humidity               int64\n",
       "Cloudiness             int64\n",
       "Wind Speed           float64\n",
       "Country               object\n",
       "Date          datetime64[ns]\n",
       "dtype: object"
      ]
     },
     "execution_count": 219,
     "metadata": {},
     "output_type": "execute_result"
    }
   ],
   "source": [
    "weather_df.loc[:, 'Date'] = pd.to_datetime(weather_df.Date)"
   ]
  },
  {
   "cell_type": "code",
   "execution_count": 255,
   "metadata": {},
   "outputs": [
    {
     "data": {
      "image/png": "[encoded data removed]",
      "text/plain": [
       "<Figure size 432x288 with 1 Axes>"
      ]
     },
     "metadata": {
      "needs_background": "light"
     },
     "output_type": "display_data"
    }
   ],
   "source": [
    "weather_df.plot(kind=\"scatter\", x=\"Lat\", y=\"Max Temp\", grid=True, title=\"City Latitude vs. Max Temperature (F) (01/25/2021)\")\n",
    "plt.show()"
   ]
  },
  {
   "cell_type": "code",
   "execution_count": 256,
   "metadata": {},
   "outputs": [
    {
     "data": {
      "image/png": "[encoded data removed]",
      "text/plain": [
       "<Figure size 432x288 with 1 Axes>"
      ]
     },
     "metadata": {
      "needs_background": "light"
     },
     "output_type": "display_data"
    }
   ],
   "source": [
    "weather_df.plot(kind=\"scatter\", x=\"Lat\", y=\"Humidity\", grid=True, title=\"City Latitude vs. Humidity (01/25/2021)\")\n",
    "plt.show()"
   ]
  },
  {
   "cell_type": "code",
   "execution_count": 258,
   "metadata": {},
   "outputs": [
    {
     "data": {
      "image/png": "[encoded data removed]",
      "text/plain": [
       "<Figure size 432x288 with 1 Axes>"
      ]
     },
     "metadata": {
      "needs_background": "light"
     },
     "output_type": "display_data"
    }
   ],
   "source": [
    "weather_df.plot(kind=\"scatter\", x=\"Lat\", y=\"Cloudiness\", grid=True, title=\"City Latitude vs. Cloudiness (01/25/2021)\")\n",
    "plt.show()"
   ]
  },
  {
   "cell_type": "code",
   "execution_count": 260,
   "metadata": {},
   "outputs": [
    {
     "data": {
      "image/png": "[encoded data removed]",
      "text/plain": [
       "<Figure size 432x288 with 1 Axes>"
      ]
     },
     "metadata": {
      "needs_background": "light"
     },
     "output_type": "display_data"
    }
   ],
   "source": [
    "weather_df.plot(kind=\"scatter\", x=\"Lat\", y=\"Wind Speed\", grid=True, title=\"City Latitude vs. Wind Speed 01/25/2021\")\n",
    "plt.show()"
   ]
  },
  {
   "cell_type": "code",
   "execution_count": 316,
   "metadata": {},
   "outputs": [],
   "source": [
    "north_hem_df = weather_df[weather_df[\"Lat\"]>=0]\n",
    "north_hem_df.reset_index(drop=True, inplace=True)"
   ]
  },
  {
   "cell_type": "code",
   "execution_count": 317,
   "metadata": {},
   "outputs": [],
   "source": [
    "south_hem_df = weather_df[weather_df[\"Lat\"]<0]\n",
    "south_hem_df.reset_index(drop=True, inplace=True)"
   ]
  },
  {
   "cell_type": "code",
   "execution_count": 374,
   "metadata": {},
   "outputs": [
    {
     "data": {
      "text/plain": [
       "33.94"
      ]
     },
     "execution_count": 374,
     "metadata": {},
     "output_type": "execute_result"
    }
   ],
   "source": [
    "north_hem_df[\"Max Temp\"].max()"
   ]
  },
  {
   "cell_type": "code",
   "execution_count": 378,
   "metadata": {},
   "outputs": [
    {
     "name": "stdout",
     "output_type": "stream",
     "text": [
      "The r-squared is: 0.7207748584890997\n"
     ]
    },
    {
     "data": {
      "image/png": "[encoded data removed]",
      "text/plain": [
       "<Figure size 432x288 with 1 Axes>"
      ]
     },
     "metadata": {
      "needs_background": "light"
     },
     "output_type": "display_data"
    }
   ],
   "source": [
    "# Northern Hemisphere - Max Temp vs. Latitude Linear Regression\n",
    "x_values_north = north_hem_df[\"Lat\"]\n",
    "y_values_north = north_hem_df[\"Max Temp\"]\n",
    "(slope, intercept, rvalue, pvalue, stderr) = linregress(x_values_north, y_values_north)\n",
    "regress_values = x_values_north * slope + intercept\n",
    "line_eq = \"y = \" + str(round(slope,2)) + \"x + \" + str(round(intercept,2))\n",
    "plt.scatter(x_values_north,y_values_north)\n",
    "plt.plot(x_values_north,regress_values,\"r-\")\n",
    "plt.annotate(line_eq,(5,-20),fontsize=15,color=\"red\")\n",
    "plt.xlabel('Latitude')\n",
    "plt.ylabel('Max Temp')\n",
    "plt.xlim(0, 80)\n",
    "plt.ylim(-50, 35)\n",
    "print(f\"The r-squared is: {rvalue**2}\")\n",
    "plt.show()"
   ]
  },
  {
   "cell_type": "code",
   "execution_count": 413,
   "metadata": {},
   "outputs": [
    {
     "name": "stdout",
     "output_type": "stream",
     "text": [
      "The r-squared is: 0.41362889855323276\n"
     ]
    },
    {
     "data": {
      "image/png": "[encoded data removed]",
      "text/plain": [
       "<Figure size 432x288 with 1 Axes>"
      ]
     },
     "metadata": {
      "needs_background": "light"
     },
     "output_type": "display_data"
    }
   ],
   "source": [
    "# Southern Hemisphere - Max Temp vs. Latitude Linear Regression\n",
    "x_values_south = south_hem_df[\"Lat\"]\n",
    "y_values_south = south_hem_df[\"Max Temp\"]\n",
    "(slope, intercept, rvalue, pvalue, stderr) = linregress(x_values_south, y_values_south)\n",
    "regress_values = x_values_south * slope + intercept\n",
    "line_eq = \"y = \" + str(round(slope,2)) + \"x + \" + str(round(intercept,2))\n",
    "plt.scatter(x_values_south,y_values_south)\n",
    "plt.plot(x_values_south,regress_values,\"r-\")\n",
    "plt.annotate(line_eq,(-30,10),fontsize=10,color=\"red\")\n",
    "plt.xlabel('Latitude')\n",
    "plt.ylabel('Max Temp')\n",
    "plt.xlim(-55, 0)\n",
    "print(f\"The r-squared is: {rvalue**2}\")\n",
    "plt.show()"
   ]
  },
  {
   "cell_type": "code",
   "execution_count": 412,
   "metadata": {},
   "outputs": [
    {
     "name": "stdout",
     "output_type": "stream",
     "text": [
      "The r-squared is: 0.12865325881486603\n"
     ]
    },
    {
     "data": {
      "image/png": "[encoded data removed]",
      "text/plain": [
       "<Figure size 432x288 with 1 Axes>"
      ]
     },
     "metadata": {
      "needs_background": "light"
     },
     "output_type": "display_data"
    }
   ],
   "source": [
    "# Northern Hemisphere - Humidity vs. Latitude Linear Regression\n",
    "x_values_north = north_hem_df[\"Lat\"]\n",
    "y_values_north = north_hem_df[\"Humidity\"]\n",
    "(slope, intercept, rvalue, pvalue, stderr) = linregress(x_values_north, y_values_north)\n",
    "regress_values = x_values_north * slope + intercept\n",
    "line_eq = \"y = \" + str(round(slope,2)) + \"x + \" + str(round(intercept,2))\n",
    "plt.scatter(x_values_north,y_values_north)\n",
    "plt.plot(x_values_north,regress_values,\"r-\")\n",
    "plt.annotate(line_eq,(45,40),fontsize=10,color=\"red\")\n",
    "plt.xlabel('Latitude')\n",
    "plt.ylabel('Humidity')\n",
    "plt.ylim(0, 100)\n",
    "plt.xlim(0, 80)\n",
    "print(f\"The r-squared is: {rvalue**2}\")\n",
    "plt.show()"
   ]
  },
  {
   "cell_type": "code",
   "execution_count": null,
   "metadata": {},
   "outputs": [],
   "source": []
  },
  {
   "cell_type": "code",
   "execution_count": 411,
   "metadata": {},
   "outputs": [
    {
     "name": "stdout",
     "output_type": "stream",
     "text": [
      "The r-squared is: 0.0332026085033\n"
     ]
    },
    {
     "data": {
      "image/png": "[encoded data removed]",
      "text/plain": [
       "<Figure size 432x288 with 1 Axes>"
      ]
     },
     "metadata": {
      "needs_background": "light"
     },
     "output_type": "display_data"
    }
   ],
   "source": [
    "# Sourthern Hemisphere - Humidity vs. Latitude Linear Regression\n",
    "x_values_south = south_hem_df[\"Lat\"]\n",
    "y_values_south = south_hem_df[\"Humidity\"]\n",
    "(slope, intercept, rvalue, pvalue, stderr) = linregress(x_values_south, y_values_south)\n",
    "regress_values = x_values_south * slope + intercept\n",
    "line_eq = \"y = \" + str(round(slope,2)) + \"x + \" + str(round(intercept,2))\n",
    "plt.scatter(x_values_south,y_values_south)\n",
    "plt.plot(x_values_south,regress_values,\"r-\")\n",
    "plt.annotate(line_eq,(45,40),fontsize=10,color=\"red\")\n",
    "plt.xlabel('Latitude')\n",
    "plt.ylabel('Humidity')\n",
    "plt.ylim(10, 100)\n",
    "plt.xlim(-55, 0)\n",
    "print(f\"The r-squared is: {rvalue**2}\")\n",
    "plt.show()"
   ]
  },
  {
   "cell_type": "code",
   "execution_count": 418,
   "metadata": {},
   "outputs": [
    {
     "name": "stdout",
     "output_type": "stream",
     "text": [
      "The r-squared is: 0.04108201597579094\n"
     ]
    },
    {
     "data": {
      "image/png": "[encoded data removed]",
      "text/plain": [
       "<Figure size 432x288 with 1 Axes>"
      ]
     },
     "metadata": {
      "needs_background": "light"
     },
     "output_type": "display_data"
    }
   ],
   "source": [
    "# Northern Hemisphere - Cloudiness vs. Latitude Linear Regression\n",
    "x_values_north = north_hem_df[\"Lat\"]\n",
    "y_values_north = north_hem_df[\"Cloudiness\"]\n",
    "(slope, intercept, rvalue, pvalue, stderr) = linregress(x_values_north, y_values_north)\n",
    "regress_values = x_values_north * slope + intercept\n",
    "line_eq = \"y = \" + str(round(slope,2)) + \"x + \" + str(round(intercept,2))\n",
    "plt.scatter(x_values_north,y_values_north)\n",
    "plt.plot(x_values_north,regress_values,\"r-\")\n",
    "plt.annotate(line_eq,(10,50),fontsize=10,color=\"red\")\n",
    "plt.xlabel('Latitude')\n",
    "plt.ylabel('Cloudiness')\n",
    "plt.xlim(0, 80)\n",
    "plt.ylim(0, 100)\n",
    "print(f\"The r-squared is: {rvalue**2}\")\n",
    "plt.show()"
   ]
  },
  {
   "cell_type": "code",
   "execution_count": 416,
   "metadata": {},
   "outputs": [
    {
     "data": {
      "text/plain": [
       "78.2186"
      ]
     },
     "execution_count": 416,
     "metadata": {},
     "output_type": "execute_result"
    }
   ],
   "source": [
    "north_hem_df[\"Lat\"].max()"
   ]
  },
  {
   "cell_type": "code",
   "execution_count": 410,
   "metadata": {},
   "outputs": [
    {
     "name": "stdout",
     "output_type": "stream",
     "text": [
      "The r-squared is: 0.05700689037085723\n"
     ]
    },
    {
     "data": {
      "image/png": "[encoded data removed]",
      "text/plain": [
       "<Figure size 432x288 with 1 Axes>"
      ]
     },
     "metadata": {
      "needs_background": "light"
     },
     "output_type": "display_data"
    }
   ],
   "source": [
    "# Sourthern Hemisphere - Cloudiness vs. Latitude Linear Regression\n",
    "x_values_south = south_hem_df[\"Lat\"]\n",
    "y_values_south = south_hem_df[\"Cloudiness\"]\n",
    "(slope, intercept, rvalue, pvalue, stderr) = linregress(x_values_south, y_values_south)\n",
    "regress_values = x_values_south * slope + intercept\n",
    "line_eq = \"y = \" + str(round(slope,2)) + \"x + \" + str(round(intercept,2))\n",
    "plt.scatter(x_values_south,y_values_south)\n",
    "plt.plot(x_values_south,regress_values,\"r-\")\n",
    "plt.annotate(line_eq,(-50,10),fontsize=10,color=\"red\")\n",
    "plt.xlabel('Latitude')\n",
    "plt.ylabel('Humidity')\n",
    "plt.ylim(0, 100)\n",
    "plt.xlim(-55, 0)\n",
    "print(f\"The r-squared is: {rvalue**2}\")\n",
    "plt.show()"
   ]
  },
  {
   "cell_type": "code",
   "execution_count": 423,
   "metadata": {},
   "outputs": [
    {
     "name": "stdout",
     "output_type": "stream",
     "text": [
      "The r-squared is: 0.01326018427841728\n"
     ]
    },
    {
     "data": {
      "image/png": "[encoded data removed]",
      "text/plain": [
       "<Figure size 432x288 with 1 Axes>"
      ]
     },
     "metadata": {
      "needs_background": "light"
     },
     "output_type": "display_data"
    }
   ],
   "source": [
    "# Northern Hemisphere - Wind Speed vs. Latitude Linear Regression\n",
    "x_values_north = north_hem_df[\"Lat\"]\n",
    "y_values_north = north_hem_df[\"Wind Speed\"]\n",
    "(slope, intercept, rvalue, pvalue, stderr) = linregress(x_values_north, y_values_north)\n",
    "regress_values = x_values_north * slope + intercept\n",
    "line_eq = \"y = \" + str(round(slope,2)) + \"x + \" + str(round(intercept,2))\n",
    "plt.scatter(x_values_north,y_values_north)\n",
    "plt.plot(x_values_north,regress_values,\"r-\")\n",
    "plt.annotate(line_eq,(10,12),fontsize=10,color=\"red\")\n",
    "plt.xlabel('Latitude')\n",
    "plt.ylabel('Wind Speed')\n",
    "plt.xlim(0, 80)\n",
    "plt.ylim(0, 15)\n",
    "print(f\"The r-squared is: {rvalue**2}\")\n",
    "plt.show()"
   ]
  },
  {
   "cell_type": "code",
   "execution_count": 424,
   "metadata": {},
   "outputs": [
    {
     "data": {
      "text/plain": [
       "11.39"
      ]
     },
     "execution_count": 424,
     "metadata": {},
     "output_type": "execute_result"
    }
   ],
   "source": [
    "south_hem_df[\"Wind Speed\"].max()"
   ]
  },
  {
   "cell_type": "code",
   "execution_count": 425,
   "metadata": {},
   "outputs": [
    {
     "name": "stdout",
     "output_type": "stream",
     "text": [
      "The r-squared is: 0.0018442634090612396\n"
     ]
    },
    {
     "data": {
      "image/png": "[encoded data removed]",
      "text/plain": [
       "<Figure size 432x288 with 1 Axes>"
      ]
     },
     "metadata": {
      "needs_background": "light"
     },
     "output_type": "display_data"
    }
   ],
   "source": [
    "# Sourthern Hemisphere - Wind Speed vs. Latitude Linear Regression\n",
    "x_values_south = south_hem_df[\"Lat\"]\n",
    "y_values_south = south_hem_df[\"Wind Speed\"]\n",
    "(slope, intercept, rvalue, pvalue, stderr) = linregress(x_values_south, y_values_south)\n",
    "regress_values = x_values_south * slope + intercept\n",
    "line_eq = \"y = \" + str(round(slope,2)) + \"x + \" + str(round(intercept,2))\n",
    "plt.scatter(x_values_south,y_values_south)\n",
    "plt.plot(x_values_south,regress_values,\"r-\")\n",
    "plt.annotate(line_eq,(-50,10),fontsize=10,color=\"red\")\n",
    "plt.xlabel('Latitude')\n",
    "plt.ylabel('Humidity')\n",
    "plt.ylim(0, 15)\n",
    "plt.xlim(-55, 0)\n",
    "print(f\"The r-squared is: {rvalue**2}\")\n",
    "plt.show()"
   ]
  },
  {
   "cell_type": "code",
   "execution_count": null,
   "metadata": {},
   "outputs": [],
   "source": [
    "############################For VacationPy"
   ]
  },
  {
   "cell_type": "code",
   "execution_count": 428,
   "metadata": {},
   "outputs": [
    {
     "data": {
      "text/html": [
       "<div>\n",
       "<style scoped>\n",
       "    .dataframe tbody tr th:only-of-type {\n",
       "        vertical-align: middle;\n",
       "    }\n",
       "\n",
       "    .dataframe tbody tr th {\n",
       "        vertical-align: top;\n",
       "    }\n",
       "\n",
       "    .dataframe thead th {\n",
       "        text-align: right;\n",
       "    }\n",
       "</style>\n",
       "<table border=\"1\" class=\"dataframe\">\n",
       "  <thead>\n",
       "    <tr style=\"text-align: right;\">\n",
       "      <th></th>\n",
       "      <th>City</th>\n",
       "      <th>Lat</th>\n",
       "      <th>Lng</th>\n",
       "      <th>Max Temp</th>\n",
       "      <th>Humidity</th>\n",
       "      <th>Cloudiness</th>\n",
       "      <th>Wind Speed</th>\n",
       "      <th>Country</th>\n",
       "      <th>Date</th>\n",
       "    </tr>\n",
       "  </thead>\n",
       "  <tbody>\n",
       "  </tbody>\n",
       "</table>\n",
       "</div>"
      ],
      "text/plain": [
       "Empty DataFrame\n",
       "Columns: [City, Lat, Lng, Max Temp, Humidity, Cloudiness, Wind Speed, Country, Date]\n",
       "Index: []"
      ]
     },
     "execution_count": 428,
     "metadata": {},
     "output_type": "execute_result"
    }
   ],
   "source": [
    "weather_df.loc[(weather_df[\"Max Temp\"] > 75)]"
   ]
  },
  {
   "cell_type": "code",
   "execution_count": 433,
   "metadata": {},
   "outputs": [
    {
     "ename": "KeyError",
     "evalue": "\"None of [Float64Index([              133.0,   4.699999999999999,               115.0,\\n                            -30.0, -203.79999999999998,                75.0,\\n                            -65.0,               83.45,  124.94999999999999,\\n                            133.4,\\n              ...\\n               120.19999999999999,               -25.0,   91.64999999999999,\\n                             77.0,               127.6,              -188.0,\\n                              4.2,               137.6,               127.8,\\n                              5.0],\\n             dtype='float64', length=548)] are in the [columns]\"",
     "output_type": "error",
     "traceback": [
      "\u001b[1;31m---------------------------------------------------------------------------\u001b[0m",
      "\u001b[1;31mKeyError\u001b[0m                                  Traceback (most recent call last)",
      "\u001b[1;32m<ipython-input-433-7e0d1a0a7996>\u001b[0m in \u001b[0;36m<module>\u001b[1;34m\u001b[0m\n\u001b[1;32m----> 1\u001b[1;33m \u001b[0mweather_df\u001b[0m\u001b[1;33m[\u001b[0m\u001b[0mweather_df\u001b[0m\u001b[1;33m[\u001b[0m\u001b[1;34m\"Max Temp\"\u001b[0m\u001b[1;33m]\u001b[0m\u001b[1;33m*\u001b[0m\u001b[1;36m5\u001b[0m\u001b[1;33m]\u001b[0m\u001b[1;33m\u001b[0m\u001b[1;33m\u001b[0m\u001b[0m\n\u001b[0m",
      "\u001b[1;32m~\\Anaconda3\\envs\\PythonData\\lib\\site-packages\\pandas\\core\\frame.py\u001b[0m in \u001b[0;36m__getitem__\u001b[1;34m(self, key)\u001b[0m\n\u001b[0;32m   2804\u001b[0m             \u001b[1;32mif\u001b[0m \u001b[0mis_iterator\u001b[0m\u001b[1;33m(\u001b[0m\u001b[0mkey\u001b[0m\u001b[1;33m)\u001b[0m\u001b[1;33m:\u001b[0m\u001b[1;33m\u001b[0m\u001b[1;33m\u001b[0m\u001b[0m\n\u001b[0;32m   2805\u001b[0m                 \u001b[0mkey\u001b[0m \u001b[1;33m=\u001b[0m \u001b[0mlist\u001b[0m\u001b[1;33m(\u001b[0m\u001b[0mkey\u001b[0m\u001b[1;33m)\u001b[0m\u001b[1;33m\u001b[0m\u001b[1;33m\u001b[0m\u001b[0m\n\u001b[1;32m-> 2806\u001b[1;33m             \u001b[0mindexer\u001b[0m \u001b[1;33m=\u001b[0m \u001b[0mself\u001b[0m\u001b[1;33m.\u001b[0m\u001b[0mloc\u001b[0m\u001b[1;33m.\u001b[0m\u001b[0m_get_listlike_indexer\u001b[0m\u001b[1;33m(\u001b[0m\u001b[0mkey\u001b[0m\u001b[1;33m,\u001b[0m \u001b[0maxis\u001b[0m\u001b[1;33m=\u001b[0m\u001b[1;36m1\u001b[0m\u001b[1;33m,\u001b[0m \u001b[0mraise_missing\u001b[0m\u001b[1;33m=\u001b[0m\u001b[1;32mTrue\u001b[0m\u001b[1;33m)\u001b[0m\u001b[1;33m[\u001b[0m\u001b[1;36m1\u001b[0m\u001b[1;33m]\u001b[0m\u001b[1;33m\u001b[0m\u001b[1;33m\u001b[0m\u001b[0m\n\u001b[0m\u001b[0;32m   2807\u001b[0m \u001b[1;33m\u001b[0m\u001b[0m\n\u001b[0;32m   2808\u001b[0m         \u001b[1;31m# take() does not accept boolean indexers\u001b[0m\u001b[1;33m\u001b[0m\u001b[1;33m\u001b[0m\u001b[1;33m\u001b[0m\u001b[0m\n",
      "\u001b[1;32m~\\Anaconda3\\envs\\PythonData\\lib\\site-packages\\pandas\\core\\indexing.py\u001b[0m in \u001b[0;36m_get_listlike_indexer\u001b[1;34m(self, key, axis, raise_missing)\u001b[0m\n\u001b[0;32m   1551\u001b[0m \u001b[1;33m\u001b[0m\u001b[0m\n\u001b[0;32m   1552\u001b[0m         self._validate_read_indexer(\n\u001b[1;32m-> 1553\u001b[1;33m             \u001b[0mkeyarr\u001b[0m\u001b[1;33m,\u001b[0m \u001b[0mindexer\u001b[0m\u001b[1;33m,\u001b[0m \u001b[0mo\u001b[0m\u001b[1;33m.\u001b[0m\u001b[0m_get_axis_number\u001b[0m\u001b[1;33m(\u001b[0m\u001b[0maxis\u001b[0m\u001b[1;33m)\u001b[0m\u001b[1;33m,\u001b[0m \u001b[0mraise_missing\u001b[0m\u001b[1;33m=\u001b[0m\u001b[0mraise_missing\u001b[0m\u001b[1;33m\u001b[0m\u001b[1;33m\u001b[0m\u001b[0m\n\u001b[0m\u001b[0;32m   1554\u001b[0m         )\n\u001b[0;32m   1555\u001b[0m         \u001b[1;32mreturn\u001b[0m \u001b[0mkeyarr\u001b[0m\u001b[1;33m,\u001b[0m \u001b[0mindexer\u001b[0m\u001b[1;33m\u001b[0m\u001b[1;33m\u001b[0m\u001b[0m\n",
      "\u001b[1;32m~\\Anaconda3\\envs\\PythonData\\lib\\site-packages\\pandas\\core\\indexing.py\u001b[0m in \u001b[0;36m_validate_read_indexer\u001b[1;34m(self, key, indexer, axis, raise_missing)\u001b[0m\n\u001b[0;32m   1638\u001b[0m             \u001b[1;32mif\u001b[0m \u001b[0mmissing\u001b[0m \u001b[1;33m==\u001b[0m \u001b[0mlen\u001b[0m\u001b[1;33m(\u001b[0m\u001b[0mindexer\u001b[0m\u001b[1;33m)\u001b[0m\u001b[1;33m:\u001b[0m\u001b[1;33m\u001b[0m\u001b[1;33m\u001b[0m\u001b[0m\n\u001b[0;32m   1639\u001b[0m                 \u001b[0maxis_name\u001b[0m \u001b[1;33m=\u001b[0m \u001b[0mself\u001b[0m\u001b[1;33m.\u001b[0m\u001b[0mobj\u001b[0m\u001b[1;33m.\u001b[0m\u001b[0m_get_axis_name\u001b[0m\u001b[1;33m(\u001b[0m\u001b[0maxis\u001b[0m\u001b[1;33m)\u001b[0m\u001b[1;33m\u001b[0m\u001b[1;33m\u001b[0m\u001b[0m\n\u001b[1;32m-> 1640\u001b[1;33m                 \u001b[1;32mraise\u001b[0m \u001b[0mKeyError\u001b[0m\u001b[1;33m(\u001b[0m\u001b[1;34mf\"None of [{key}] are in the [{axis_name}]\"\u001b[0m\u001b[1;33m)\u001b[0m\u001b[1;33m\u001b[0m\u001b[1;33m\u001b[0m\u001b[0m\n\u001b[0m\u001b[0;32m   1641\u001b[0m \u001b[1;33m\u001b[0m\u001b[0m\n\u001b[0;32m   1642\u001b[0m             \u001b[1;31m# We (temporarily) allow for some missing keys with .loc, except in\u001b[0m\u001b[1;33m\u001b[0m\u001b[1;33m\u001b[0m\u001b[1;33m\u001b[0m\u001b[0m\n",
      "\u001b[1;31mKeyError\u001b[0m: \"None of [Float64Index([              133.0,   4.699999999999999,               115.0,\\n                            -30.0, -203.79999999999998,                75.0,\\n                            -65.0,               83.45,  124.94999999999999,\\n                            133.4,\\n              ...\\n               120.19999999999999,               -25.0,   91.64999999999999,\\n                             77.0,               127.6,              -188.0,\\n                              4.2,               137.6,               127.8,\\n                              5.0],\\n             dtype='float64', length=548)] are in the [columns]\""
     ]
    }
   ],
   "source": [
    "weather_df[weather_df[\"Max Temp\"]]"
   ]
  },
  {
   "cell_type": "code",
   "execution_count": 444,
   "metadata": {},
   "outputs": [
    {
     "name": "stdout",
     "output_type": "stream",
     "text": [
      "The original list : [5, 4, 1, 3, 2]\n"
     ]
    }
   ],
   "source": [
    "test_list = [5, 4, 1, 3, 2] \n",
    "print(\"The original list : \" + str(test_list)) "
   ]
  },
  {
   "cell_type": "code",
   "execution_count": 445,
   "metadata": {},
   "outputs": [
    {
     "name": "stdout",
     "output_type": "stream",
     "text": [
      "The consecutive element paired list is : [(5, 4), (4, 1), (1, 3), (3, 2)]\n"
     ]
    }
   ],
   "source": [
    "res = list(zip(test_list, test_list[1:])) \n",
    "print(\"The consecutive element paired list is : \" + str(res)) "
   ]
  },
  {
   "cell_type": "code",
   "execution_count": null,
   "metadata": {},
   "outputs": [],
   "source": []
  }
 ],
 "metadata": {
  "kernelspec": {
   "display_name": "Python 3",
   "language": "python",
   "name": "python3"
  },
  "language_info": {
   "codemirror_mode": {
    "name": "ipython",
    "version": 3
   },
   "file_extension": ".py",
   "mimetype": "text/x-python",
   "name": "python",
   "nbconvert_exporter": "python",
   "pygments_lexer": "ipython3",
   "version": "3.8.5"
  }
 },
 "nbformat": 4,
 "nbformat_minor": 4
}
